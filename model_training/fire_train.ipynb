{
 "cells": [
  {
   "cell_type": "code",
   "execution_count": 1,
   "metadata": {},
   "outputs": [
    {
     "name": "stdout",
     "output_type": "stream",
     "text": [
      "Collecting ultralytics"
     ]
    },
    {
     "name": "stderr",
     "output_type": "stream",
     "text": [
      "\n",
      "[notice] A new release of pip is available: 23.2.1 -> 24.0\n",
      "[notice] To update, run: python.exe -m pip install --upgrade pip\n"
     ]
    },
    {
     "name": "stdout",
     "output_type": "stream",
     "text": [
      "\n",
      "  Obtaining dependency information for ultralytics from https://files.pythonhosted.org/packages/02/29/7e9d2905d25a7727f7cf56fbf2e79cc36d60481cf3249143eee1b7217f29/ultralytics-8.1.29-py3-none-any.whl.metadata\n",
      "  Downloading ultralytics-8.1.29-py3-none-any.whl.metadata (40 kB)\n",
      "     ---------------------------------------- 0.0/40.3 kB ? eta -:--:--\n",
      "     ---------- ----------------------------- 10.2/40.3 kB ? eta -:--:--\n",
      "     ---------- ----------------------------- 10.2/40.3 kB ? eta -:--:--\n",
      "     ---------- ----------------------------- 10.2/40.3 kB ? eta -:--:--\n",
      "     ---------- ----------------------------- 10.2/40.3 kB ? eta -:--:--\n",
      "     ---------- ----------------------------- 10.2/40.3 kB ? eta -:--:--\n",
      "     -------------------------------------- 40.3/40.3 kB 120.4 kB/s eta 0:00:00\n",
      "Collecting matplotlib>=3.3.0 (from ultralytics)\n",
      "  Obtaining dependency information for matplotlib>=3.3.0 from https://files.pythonhosted.org/packages/a1/27/8a807464b0cf47fdf3ba8cbb542d4f3a551da0254d7588667857f8a8a88a/matplotlib-3.8.3-cp311-cp311-win_amd64.whl.metadata\n",
      "  Using cached matplotlib-3.8.3-cp311-cp311-win_amd64.whl.metadata (5.9 kB)\n",
      "Requirement already satisfied: opencv-python>=4.6.0 in c:\\users\\user\\appdata\\local\\programs\\python\\python311\\lib\\site-packages (from ultralytics) (4.8.1.78)\n",
      "Requirement already satisfied: pillow>=7.1.2 in c:\\users\\user\\appdata\\local\\programs\\python\\python311\\lib\\site-packages (from ultralytics) (9.5.0)\n",
      "Collecting pyyaml>=5.3.1 (from ultralytics)\n",
      "  Obtaining dependency information for pyyaml>=5.3.1 from https://files.pythonhosted.org/packages/b3/34/65bb4b2d7908044963ebf614fe0fdb080773fc7030d7e39c8d3eddcd4257/PyYAML-6.0.1-cp311-cp311-win_amd64.whl.metadata\n",
      "  Using cached PyYAML-6.0.1-cp311-cp311-win_amd64.whl.metadata (2.1 kB)\n",
      "Requirement already satisfied: requests>=2.23.0 in c:\\users\\user\\appdata\\local\\programs\\python\\python311\\lib\\site-packages (from ultralytics) (2.31.0)\n",
      "Requirement already satisfied: scipy>=1.4.1 in c:\\users\\user\\appdata\\local\\programs\\python\\python311\\lib\\site-packages (from ultralytics) (1.11.4)\n",
      "Collecting torch>=1.8.0 (from ultralytics)\n",
      "  Obtaining dependency information for torch>=1.8.0 from https://files.pythonhosted.org/packages/59/1f/4975d1ab3ed2244053876321ef65bc02935daed67da76c6e7d65900772a3/torch-2.2.1-cp311-cp311-win_amd64.whl.metadata\n",
      "  Using cached torch-2.2.1-cp311-cp311-win_amd64.whl.metadata (26 kB)\n",
      "Collecting torchvision>=0.9.0 (from ultralytics)\n",
      "  Obtaining dependency information for torchvision>=0.9.0 from https://files.pythonhosted.org/packages/e7/45/419aa0b37254f1fd62b45bb63836066c5eb81e37d70940e0491e95167eed/torchvision-0.17.1-cp311-cp311-win_amd64.whl.metadata\n",
      "  Using cached torchvision-0.17.1-cp311-cp311-win_amd64.whl.metadata (6.6 kB)\n",
      "Requirement already satisfied: tqdm>=4.64.0 in c:\\users\\user\\appdata\\local\\programs\\python\\python311\\lib\\site-packages (from ultralytics) (4.66.1)\n",
      "Requirement already satisfied: psutil in c:\\users\\user\\appdata\\roaming\\python\\python311\\site-packages (from ultralytics) (5.9.5)\n",
      "Collecting py-cpuinfo (from ultralytics)\n",
      "  Obtaining dependency information for py-cpuinfo from https://files.pythonhosted.org/packages/e0/a9/023730ba63db1e494a271cb018dcd361bd2c917ba7004c3e49d5daf795a2/py_cpuinfo-9.0.0-py3-none-any.whl.metadata\n",
      "  Using cached py_cpuinfo-9.0.0-py3-none-any.whl.metadata (794 bytes)\n",
      "Collecting thop>=0.1.1 (from ultralytics)\n",
      "  Obtaining dependency information for thop>=0.1.1 from https://files.pythonhosted.org/packages/bb/0f/72beeab4ff5221dc47127c80f8834b4bcd0cb36f6ba91c0b1d04a1233403/thop-0.1.1.post2209072238-py3-none-any.whl.metadata\n",
      "  Using cached thop-0.1.1.post2209072238-py3-none-any.whl.metadata (2.7 kB)\n",
      "Requirement already satisfied: pandas>=1.1.4 in c:\\users\\user\\appdata\\local\\programs\\python\\python311\\lib\\site-packages (from ultralytics) (2.2.1)\n",
      "Collecting seaborn>=0.11.0 (from ultralytics)\n",
      "  Obtaining dependency information for seaborn>=0.11.0 from https://files.pythonhosted.org/packages/83/11/00d3c3dfc25ad54e731d91449895a79e4bf2384dc3ac01809010ba88f6d5/seaborn-0.13.2-py3-none-any.whl.metadata\n",
      "  Using cached seaborn-0.13.2-py3-none-any.whl.metadata (5.4 kB)\n",
      "Collecting contourpy>=1.0.1 (from matplotlib>=3.3.0->ultralytics)\n",
      "  Obtaining dependency information for contourpy>=1.0.1 from https://files.pythonhosted.org/packages/ca/2a/d197a412ec474391ee878b1218cf2fe9c6e963903755887fc5654c06636a/contourpy-1.2.0-cp311-cp311-win_amd64.whl.metadata\n",
      "  Using cached contourpy-1.2.0-cp311-cp311-win_amd64.whl.metadata (5.8 kB)\n",
      "Collecting cycler>=0.10 (from matplotlib>=3.3.0->ultralytics)\n",
      "  Obtaining dependency information for cycler>=0.10 from https://files.pythonhosted.org/packages/e7/05/c19819d5e3d95294a6f5947fb9b9629efb316b96de511b418c53d245aae6/cycler-0.12.1-py3-none-any.whl.metadata\n",
      "  Using cached cycler-0.12.1-py3-none-any.whl.metadata (3.8 kB)\n",
      "Collecting fonttools>=4.22.0 (from matplotlib>=3.3.0->ultralytics)\n",
      "  Obtaining dependency information for fonttools>=4.22.0 from https://files.pythonhosted.org/packages/56/59/c08552d0cdd1e443510b92fa90754da08a74c73ee9b6bcecb983aa04b5be/fonttools-4.50.0-cp311-cp311-win_amd64.whl.metadata\n",
      "  Downloading fonttools-4.50.0-cp311-cp311-win_amd64.whl.metadata (162 kB)\n",
      "     ---------------------------------------- 0.0/162.6 kB ? eta -:--:--\n",
      "     -- ------------------------------------- 10.2/162.6 kB ? eta -:--:--\n",
      "     ------ ------------------------------ 30.7/162.6 kB 435.7 kB/s eta 0:00:01\n",
      "     ------------- ----------------------- 61.4/162.6 kB 544.7 kB/s eta 0:00:01\n",
      "     ------------------------------- ---- 143.4/162.6 kB 944.1 kB/s eta 0:00:01\n",
      "     ------------------------------------ 162.6/162.6 kB 810.4 kB/s eta 0:00:00\n",
      "Collecting kiwisolver>=1.3.1 (from matplotlib>=3.3.0->ultralytics)\n",
      "  Obtaining dependency information for kiwisolver>=1.3.1 from https://files.pythonhosted.org/packages/1e/37/d3c2d4ba2719059a0f12730947bbe1ad5ee8bff89e8c35319dcb2c9ddb4c/kiwisolver-1.4.5-cp311-cp311-win_amd64.whl.metadata\n",
      "  Using cached kiwisolver-1.4.5-cp311-cp311-win_amd64.whl.metadata (6.5 kB)\n",
      "Requirement already satisfied: numpy<2,>=1.21 in c:\\users\\user\\appdata\\local\\programs\\python\\python311\\lib\\site-packages (from matplotlib>=3.3.0->ultralytics) (1.26.0)\n",
      "Requirement already satisfied: packaging>=20.0 in c:\\users\\user\\appdata\\roaming\\python\\python311\\site-packages (from matplotlib>=3.3.0->ultralytics) (23.1)\n",
      "Collecting pyparsing>=2.3.1 (from matplotlib>=3.3.0->ultralytics)\n",
      "  Obtaining dependency information for pyparsing>=2.3.1 from https://files.pythonhosted.org/packages/9d/ea/6d76df31432a0e6fdf81681a895f009a4bb47b3c39036db3e1b528191d52/pyparsing-3.1.2-py3-none-any.whl.metadata\n",
      "  Using cached pyparsing-3.1.2-py3-none-any.whl.metadata (5.1 kB)\n",
      "Requirement already satisfied: python-dateutil>=2.7 in c:\\users\\user\\appdata\\roaming\\python\\python311\\site-packages (from matplotlib>=3.3.0->ultralytics) (2.8.2)\n",
      "Requirement already satisfied: pytz>=2020.1 in c:\\users\\user\\appdata\\local\\programs\\python\\python311\\lib\\site-packages (from pandas>=1.1.4->ultralytics) (2024.1)\n",
      "Requirement already satisfied: tzdata>=2022.7 in c:\\users\\user\\appdata\\local\\programs\\python\\python311\\lib\\site-packages (from pandas>=1.1.4->ultralytics) (2023.3)\n",
      "Requirement already satisfied: charset-normalizer<4,>=2 in c:\\users\\user\\appdata\\local\\programs\\python\\python311\\lib\\site-packages (from requests>=2.23.0->ultralytics) (3.3.2)\n",
      "Requirement already satisfied: idna<4,>=2.5 in c:\\users\\user\\appdata\\local\\programs\\python\\python311\\lib\\site-packages (from requests>=2.23.0->ultralytics) (3.6)\n",
      "Requirement already satisfied: urllib3<3,>=1.21.1 in c:\\users\\user\\appdata\\local\\programs\\python\\python311\\lib\\site-packages (from requests>=2.23.0->ultralytics) (2.1.0)\n",
      "Requirement already satisfied: certifi>=2017.4.17 in c:\\users\\user\\appdata\\local\\programs\\python\\python311\\lib\\site-packages (from requests>=2.23.0->ultralytics) (2023.11.17)\n",
      "Collecting filelock (from torch>=1.8.0->ultralytics)\n",
      "  Obtaining dependency information for filelock from https://files.pythonhosted.org/packages/81/54/84d42a0bee35edba99dee7b59a8d4970eccdd44b99fe728ed912106fc781/filelock-3.13.1-py3-none-any.whl.metadata\n",
      "  Using cached filelock-3.13.1-py3-none-any.whl.metadata (2.8 kB)\n",
      "Requirement already satisfied: typing-extensions>=4.8.0 in c:\\users\\user\\appdata\\local\\programs\\python\\python311\\lib\\site-packages (from torch>=1.8.0->ultralytics) (4.9.0)\n",
      "Requirement already satisfied: sympy in c:\\users\\user\\appdata\\local\\programs\\python\\python311\\lib\\site-packages (from torch>=1.8.0->ultralytics) (1.12)\n",
      "Requirement already satisfied: networkx in c:\\users\\user\\appdata\\local\\programs\\python\\python311\\lib\\site-packages (from torch>=1.8.0->ultralytics) (3.2.1)\n",
      "Collecting jinja2 (from torch>=1.8.0->ultralytics)\n",
      "  Obtaining dependency information for jinja2 from https://files.pythonhosted.org/packages/30/6d/6de6be2d02603ab56e72997708809e8a5b0fbfee080735109b40a3564843/Jinja2-3.1.3-py3-none-any.whl.metadata\n",
      "  Using cached Jinja2-3.1.3-py3-none-any.whl.metadata (3.3 kB)\n",
      "Collecting fsspec (from torch>=1.8.0->ultralytics)\n",
      "  Obtaining dependency information for fsspec from https://files.pythonhosted.org/packages/60/be/ba7cf9660a7f566fe6b63eab725e962d23ffc340324ba1eb837833e4b90a/fsspec-2024.3.0-py3-none-any.whl.metadata\n",
      "  Downloading fsspec-2024.3.0-py3-none-any.whl.metadata (6.8 kB)\n",
      "Requirement already satisfied: colorama in c:\\users\\user\\appdata\\roaming\\python\\python311\\site-packages (from tqdm>=4.64.0->ultralytics) (0.4.6)\n",
      "Requirement already satisfied: six>=1.5 in c:\\users\\user\\appdata\\roaming\\python\\python311\\site-packages (from python-dateutil>=2.7->matplotlib>=3.3.0->ultralytics) (1.16.0)\n",
      "Requirement already satisfied: MarkupSafe>=2.0 in c:\\users\\user\\appdata\\local\\programs\\python\\python311\\lib\\site-packages (from jinja2->torch>=1.8.0->ultralytics) (2.1.5)\n",
      "Requirement already satisfied: mpmath>=0.19 in c:\\users\\user\\appdata\\local\\programs\\python\\python311\\lib\\site-packages (from sympy->torch>=1.8.0->ultralytics) (1.3.0)\n",
      "Downloading ultralytics-8.1.29-py3-none-any.whl (721 kB)\n",
      "   ---------------------------------------- 0.0/721.3 kB ? eta -:--:--\n",
      "   --------- ------------------------------ 174.1/721.3 kB 3.5 MB/s eta 0:00:01\n",
      "   ------------------- -------------------- 358.4/721.3 kB 3.7 MB/s eta 0:00:01\n",
      "   --------------------------- ------------ 501.8/721.3 kB 3.5 MB/s eta 0:00:01\n",
      "   ---------------------------------- ----- 614.4/721.3 kB 3.2 MB/s eta 0:00:01\n",
      "   ---------------------------------------- 721.3/721.3 kB 3.2 MB/s eta 0:00:00\n",
      "Using cached matplotlib-3.8.3-cp311-cp311-win_amd64.whl (7.6 MB)\n",
      "Using cached PyYAML-6.0.1-cp311-cp311-win_amd64.whl (144 kB)\n",
      "Using cached seaborn-0.13.2-py3-none-any.whl (294 kB)\n",
      "Using cached thop-0.1.1.post2209072238-py3-none-any.whl (15 kB)\n",
      "Using cached torch-2.2.1-cp311-cp311-win_amd64.whl (198.6 MB)\n",
      "Using cached torchvision-0.17.1-cp311-cp311-win_amd64.whl (1.2 MB)\n",
      "Using cached py_cpuinfo-9.0.0-py3-none-any.whl (22 kB)\n",
      "Using cached contourpy-1.2.0-cp311-cp311-win_amd64.whl (187 kB)\n",
      "Using cached cycler-0.12.1-py3-none-any.whl (8.3 kB)\n",
      "Downloading fonttools-4.50.0-cp311-cp311-win_amd64.whl (2.2 MB)\n",
      "   ---------------------------------------- 0.0/2.2 MB ? eta -:--:--\n",
      "   --- ------------------------------------ 0.2/2.2 MB 6.3 MB/s eta 0:00:01\n",
      "   ------- -------------------------------- 0.4/2.2 MB 6.3 MB/s eta 0:00:01\n",
      "   ---------- ----------------------------- 0.6/2.2 MB 4.7 MB/s eta 0:00:01\n",
      "   -------------- ------------------------- 0.8/2.2 MB 4.6 MB/s eta 0:00:01\n",
      "   ------------------- -------------------- 1.1/2.2 MB 4.5 MB/s eta 0:00:01\n",
      "   ---------------------- ----------------- 1.2/2.2 MB 4.7 MB/s eta 0:00:01\n",
      "   ------------------------- -------------- 1.4/2.2 MB 4.3 MB/s eta 0:00:01\n",
      "   ----------------------------- ---------- 1.6/2.2 MB 4.3 MB/s eta 0:00:01\n",
      "   ---------------------------------- ----- 1.9/2.2 MB 4.6 MB/s eta 0:00:01\n",
      "   -------------------------------------- - 2.1/2.2 MB 4.6 MB/s eta 0:00:01\n",
      "   ---------------------------------------  2.2/2.2 MB 4.3 MB/s eta 0:00:01\n",
      "   ---------------------------------------- 2.2/2.2 MB 4.0 MB/s eta 0:00:00\n",
      "Using cached kiwisolver-1.4.5-cp311-cp311-win_amd64.whl (56 kB)\n",
      "Using cached pyparsing-3.1.2-py3-none-any.whl (103 kB)\n",
      "Using cached filelock-3.13.1-py3-none-any.whl (11 kB)\n",
      "Downloading fsspec-2024.3.0-py3-none-any.whl (171 kB)\n",
      "   ---------------------------------------- 0.0/171.9 kB ? eta -:--:--\n",
      "   -------------------------------------- - 163.8/171.9 kB 5.0 MB/s eta 0:00:01\n",
      "   ---------------------------------------- 171.9/171.9 kB 2.6 MB/s eta 0:00:00\n",
      "Using cached Jinja2-3.1.3-py3-none-any.whl (133 kB)\n",
      "Installing collected packages: py-cpuinfo, pyyaml, pyparsing, kiwisolver, jinja2, fsspec, fonttools, filelock, cycler, contourpy, torch, matplotlib, torchvision, thop, seaborn, ultralytics\n",
      "Successfully installed contourpy-1.2.0 cycler-0.12.1 filelock-3.13.1 fonttools-4.50.0 fsspec-2024.3.0 jinja2-3.1.3 kiwisolver-1.4.5 matplotlib-3.8.3 py-cpuinfo-9.0.0 pyparsing-3.1.2 pyyaml-6.0.1 seaborn-0.13.2 thop-0.1.1.post2209072238 torch-2.2.1 torchvision-0.17.1 ultralytics-8.1.29\n"
     ]
    }
   ],
   "source": [
    "!pip install ultralytics"
   ]
  },
  {
   "cell_type": "code",
   "execution_count": null,
   "metadata": {},
   "outputs": [],
   "source": [
    "import locale\n",
    "locale.getpreferredencoding = lambda: \"UTF-8\"\n",
    "!cp -r \"https://www.kaggle.com/datasets/antrosafin/fire-dataset-in-yolo-format\""
   ]
  },
  {
   "cell_type": "code",
   "execution_count": 2,
   "metadata": {},
   "outputs": [],
   "source": [
    "from ultralytics import YOLO"
   ]
  },
  {
   "cell_type": "code",
   "execution_count": null,
   "metadata": {},
   "outputs": [],
   "source": [
    "model = YOLO('yolov8n.pt')\n",
    "result = model.train(data = '/contents/data.yaml',epochs=15,imgsz=640,patience=10)\n",
    "!scp -r /content/runs '/contents/run1_fire'"
   ]
  }
 ],
 "metadata": {
  "kernelspec": {
   "display_name": "Python 3",
   "language": "python",
   "name": "python3"
  },
  "language_info": {
   "codemirror_mode": {
    "name": "ipython",
    "version": 3
   },
   "file_extension": ".py",
   "mimetype": "text/x-python",
   "name": "python",
   "nbconvert_exporter": "python",
   "pygments_lexer": "ipython3",
   "version": "3.11.5"
  }
 },
 "nbformat": 4,
 "nbformat_minor": 2
}

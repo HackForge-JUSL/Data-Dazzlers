{
 "cells": [
  {
   "cell_type": "code",
   "execution_count": 2,
   "metadata": {},
   "outputs": [],
   "source": [
    "from ultralytics import YOLO\n",
    "import cv2\n",
    "import imageio"
   ]
  },
  {
   "cell_type": "code",
   "execution_count": 4,
   "metadata": {},
   "outputs": [],
   "source": [
    "### copied fire_detection class from fire.py\n",
    "\n",
    "class fire_detection():\n",
    "    def __init__(self,model_path,conf=0.85):\n",
    "        self.model = YOLO(model_path,verbose=False)\n",
    "        self.confidence = conf\n",
    "\n",
    "    def process(self,img):\n",
    "        bb_boxes=[]\n",
    "        result=self.model(img,verbose=False)\n",
    "\n",
    "        for box in result[0].boxes:\n",
    "            if(float(box.conf[0])>self.confidence):\n",
    "                bb=list(map(int,box.xyxy[0]))\n",
    "                bb_boxes.append(bb)\n",
    "\n",
    "        if(len(bb_boxes)):\n",
    "            found=True\n",
    "        else:\n",
    "            found=False\n",
    "        return (found,bb_boxes)"
   ]
  },
  {
   "cell_type": "code",
   "execution_count": 5,
   "metadata": {},
   "outputs": [],
   "source": [
    "## make sure you give the full path to the model\n",
    "## as of now model is trained to less data, so pass lesser conf\n",
    "\n",
    "model=fire_detection(model_path=\"D:\\DA\\HackForge\\Data-Dazzlers\\det_models\\\\fire(1).pt\",conf=0.35)"
   ]
  },
  {
   "cell_type": "code",
   "execution_count": 5,
   "metadata": {},
   "outputs": [],
   "source": [
    "## loading the sample image\n",
    "fire_img=cv2.imread(\"fire.png\")"
   ]
  },
  {
   "cell_type": "code",
   "execution_count": 6,
   "metadata": {},
   "outputs": [],
   "source": [
    "results=model.process(fire_img)"
   ]
  },
  {
   "cell_type": "code",
   "execution_count": 7,
   "metadata": {},
   "outputs": [
    {
     "data": {
      "text/plain": [
       "(True, [[31, 106, 82, 189], [205, 127, 249, 224], [128, 172, 168, 202]])"
      ]
     },
     "execution_count": 7,
     "metadata": {},
     "output_type": "execute_result"
    }
   ],
   "source": [
    "results"
   ]
  },
  {
   "cell_type": "code",
   "execution_count": 6,
   "metadata": {},
   "outputs": [],
   "source": [
    "## testing the model on a smaple video and writing the output into a video file\n",
    "\n",
    "cap=cv2.VideoCapture(\"fire_video_input.mp4\")\n",
    "frames=[]\n",
    "ret=True\n",
    "while(ret):\n",
    "    ret,frame=cap.read()\n",
    "    if not ret:\n",
    "        break\n",
    "\n",
    "    found,bb_box=model.process(frame)\n",
    "    \n",
    "    if found:\n",
    "        for box in bb_box:\n",
    "            x1,y1,x2,y2=box\n",
    "            cv2.rectangle(frame,(x1,y1),(x2,y2),(255,0,255),2)\n",
    "    frame=cv2.cvtColor(frame,cv2.COLOR_BGR2RGB)\n",
    "    frames.append(frame)\n",
    "\n",
    "# Release video capture\n",
    "cap.release()"
   ]
  },
  {
   "cell_type": "code",
   "execution_count": 7,
   "metadata": {},
   "outputs": [],
   "source": [
    "gif_path = 'fire_output.gif'\n",
    "imageio.mimsave(gif_path, frames, duration=0.1)"
   ]
  },
  {
   "cell_type": "code",
   "execution_count": null,
   "metadata": {},
   "outputs": [],
   "source": []
  }
 ],
 "metadata": {
  "kernelspec": {
   "display_name": "env",
   "language": "python",
   "name": "python3"
  },
  "language_info": {
   "codemirror_mode": {
    "name": "ipython",
    "version": 3
   },
   "file_extension": ".py",
   "mimetype": "text/x-python",
   "name": "python",
   "nbconvert_exporter": "python",
   "pygments_lexer": "ipython3",
   "version": "3.11.5"
  }
 },
 "nbformat": 4,
 "nbformat_minor": 2
}

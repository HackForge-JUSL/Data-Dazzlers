{
 "cells": [
  {
   "cell_type": "code",
   "execution_count": 13,
   "metadata": {},
   "outputs": [],
   "source": [
    "from ultralytics import YOLO\n",
    "import cv2"
   ]
  },
  {
   "cell_type": "code",
   "execution_count": 8,
   "metadata": {},
   "outputs": [],
   "source": [
    "class fire_detection():\n",
    "    def __init__(self,model_path,conf=0.85):\n",
    "        self.model = YOLO(model_path,verbose=False)\n",
    "        self.confidence = conf\n",
    "\n",
    "    def process(self,img):\n",
    "        bb_boxes=[]\n",
    "        result=self.model(img,verbose=False)\n",
    "\n",
    "        for box in result[0].boxes:\n",
    "            if(float(box.conf[0])>self.confidence):\n",
    "                bb=list(map(int,box.xyxy[0]))\n",
    "                bb_boxes.append(bb)\n",
    "\n",
    "        if(len(bb_boxes)):\n",
    "            found=True\n",
    "        else:\n",
    "            found=False\n",
    "        return (found,bb_boxes)"
   ]
  },
  {
   "cell_type": "code",
   "execution_count": 28,
   "metadata": {},
   "outputs": [],
   "source": [
    "model=fire_detection(model_path=\"C:\\My_Stuff\\AA_Studio\\Data Dazzlers\\Data-Dazzlers\\det_models\\\\fire.pt\",conf=0.35)"
   ]
  },
  {
   "cell_type": "code",
   "execution_count": 29,
   "metadata": {},
   "outputs": [],
   "source": [
    "fire_img=cv2.imread(\"fire.png\")"
   ]
  },
  {
   "cell_type": "code",
   "execution_count": 30,
   "metadata": {},
   "outputs": [],
   "source": [
    "results=model.process(fire_img)"
   ]
  },
  {
   "cell_type": "code",
   "execution_count": 31,
   "metadata": {},
   "outputs": [
    {
     "data": {
      "text/plain": [
       "(True, [[31, 106, 82, 189], [205, 127, 249, 224], [128, 172, 168, 202]])"
      ]
     },
     "execution_count": 31,
     "metadata": {},
     "output_type": "execute_result"
    }
   ],
   "source": [
    "results"
   ]
  },
  {
   "cell_type": "code",
   "execution_count": 33,
   "metadata": {},
   "outputs": [],
   "source": [
    "cap=cv2.VideoCapture(\"fire_video_input.mp4\")\n",
    "ret=True\n",
    "while(ret):\n",
    "    ret,frame=cap.read()\n",
    "    if not ret:\n",
    "        break\n",
    "\n",
    "    found,bb_box=model.process(frame)\n",
    "    \n",
    "    if found:\n",
    "        for box in bb_box:\n",
    "            x1,y1,x2,y2=box\n",
    "            cv2.rectangle(frame,(x1,y1),(x2,y2),(255,0,255),2)\n",
    "    \n",
    "    cv2.imshow(\"out\",frame)\n",
    "\n",
    "    if cv2.waitKey(25) & 0xFF == ord(\"q\"):\n",
    "        break\n",
    "\n",
    "# Release video capture and close windows\n",
    "cap.release()\n",
    "cv2.destroyAllWindows()"
   ]
  },
  {
   "cell_type": "code",
   "execution_count": null,
   "metadata": {},
   "outputs": [],
   "source": []
  }
 ],
 "metadata": {
  "kernelspec": {
   "display_name": "env",
   "language": "python",
   "name": "python3"
  },
  "language_info": {
   "codemirror_mode": {
    "name": "ipython",
    "version": 3
   },
   "file_extension": ".py",
   "mimetype": "text/x-python",
   "name": "python",
   "nbconvert_exporter": "python",
   "pygments_lexer": "ipython3",
   "version": "3.11.5"
  }
 },
 "nbformat": 4,
 "nbformat_minor": 2
}

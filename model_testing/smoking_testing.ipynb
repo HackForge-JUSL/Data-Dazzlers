{
 "cells": [
  {
   "cell_type": "code",
   "execution_count": 1,
   "metadata": {},
   "outputs": [],
   "source": [
    "from ultralytics import YOLO\n",
    "import cv2\n",
    "import imageio"
   ]
  },
  {
   "cell_type": "code",
   "execution_count": 4,
   "metadata": {},
   "outputs": [],
   "source": [
    "class smoking_detection():\n",
    "    def __init__(self,model_path,conf=0.85):\n",
    "        self.model = YOLO(model_path,verbose=False)\n",
    "        self.confidence = conf\n",
    "\n",
    "    def process(self,img):\n",
    "        bb_boxes=[]\n",
    "        result=self.model(img,verbose=False)\n",
    "\n",
    "        for box in result[0].boxes:\n",
    "            if(float(box.conf[0])>self.confidence):\n",
    "                bb=list(map(int,box.xyxy[0]))\n",
    "                bb_boxes.append(bb)\n",
    "\n",
    "        if(len(bb_boxes)):\n",
    "            found = True\n",
    "        else:\n",
    "            found = False\n",
    "        return(found,bb_boxes)"
   ]
  },
  {
   "cell_type": "code",
   "execution_count": 3,
   "metadata": {},
   "outputs": [],
   "source": [
    "model = smoking_detection('D:\\DA\\HackForge\\Data-Dazzlers\\det_models\\smoking.pt',conf=0.35)"
   ]
  },
  {
   "cell_type": "code",
   "execution_count": 6,
   "metadata": {},
   "outputs": [],
   "source": [
    "smoking_img = cv2.imread('smoking_test.png')"
   ]
  },
  {
   "cell_type": "code",
   "execution_count": 7,
   "metadata": {},
   "outputs": [],
   "source": [
    "result = model.process(smoking_img)"
   ]
  },
  {
   "cell_type": "code",
   "execution_count": 8,
   "metadata": {},
   "outputs": [
    {
     "data": {
      "text/plain": [
       "(True, [[96, 153, 210, 251]])"
      ]
     },
     "execution_count": 8,
     "metadata": {},
     "output_type": "execute_result"
    }
   ],
   "source": [
    "result"
   ]
  },
  {
   "cell_type": "code",
   "execution_count": 11,
   "metadata": {},
   "outputs": [],
   "source": [
    "cap = cv2.VideoCapture('model_testing\\smoking_testing_input.mp4')\n",
    "frames=[]\n",
    "ret=True\n",
    "while(ret):\n",
    "    ret,frame=cap.read()\n",
    "    if not ret:\n",
    "        break\n",
    "\n",
    "    found,bb_box=model.process(frame)\n",
    "\n",
    "    if found:\n",
    "        for box in bb_box:\n",
    "            x1,y1,x2,y2=box\n",
    "            cv2.rectangle(frame,(x1,y1),(x2,y2),(255,0,255),2)\n",
    "    frame=cv2.cvtColor(frame,cv2.COLOR_BGR2RGB)\n",
    "    frames.append(frame)\n",
    "\n",
    "cap.release()\n"
   ]
  },
  {
   "cell_type": "code",
   "execution_count": 12,
   "metadata": {},
   "outputs": [],
   "source": [
    "gif_path = 'smoking_output.gif'\n",
    "imageio.mimsave(gif_path, frames, duration=0.1)"
   ]
  }
 ],
 "metadata": {
  "kernelspec": {
   "display_name": "env",
   "language": "python",
   "name": "python3"
  },
  "language_info": {
   "codemirror_mode": {
    "name": "ipython",
    "version": 3
   },
   "file_extension": ".py",
   "mimetype": "text/x-python",
   "name": "python",
   "nbconvert_exporter": "python",
   "pygments_lexer": "ipython3",
   "version": "3.11.5"
  }
 },
 "nbformat": 4,
 "nbformat_minor": 2
}
